{
  "nbformat": 4,
  "nbformat_minor": 0,
  "metadata": {
    "colab": {
      "provenance": []
    },
    "kernelspec": {
      "name": "python3",
      "display_name": "Python 3"
    },
    "language_info": {
      "name": "python"
    }
  },
  "cells": [
    {
      "cell_type": "code",
      "execution_count": null,
      "metadata": {
        "id": "8AF0VXZfSTmv"
      },
      "outputs": [],
      "source": [
        "!pip install langgraph langsmith"
      ]
    },
    {
      "cell_type": "code",
      "source": [
        "!pip install langchain langchain_groq langchain_community"
      ],
      "metadata": {
        "id": "WP1JAu-aUDcg"
      },
      "execution_count": null,
      "outputs": []
    },
    {
      "cell_type": "code",
      "source": [
        "from google.colab import userdata\n",
        "groq_api_key = userdata.get('groq_api_key')\n",
        "langsmith_api_key = userdata.get('langsmith_api_key')"
      ],
      "metadata": {
        "id": "zC-eHGzIUUiN"
      },
      "execution_count": 6,
      "outputs": []
    },
    {
      "cell_type": "code",
      "source": [
        "import os\n",
        "os.environ[\"LANGCHAIN_TRACING_V2\"] = \"true\"\n",
        "os.environ[\"LANGCHAIN_API_KEY\"] = langsmith_api_key\n",
        "os.environ[\"LANGCHAIN_PROJECT\"] = \"langgraph Chatbot\""
      ],
      "metadata": {
        "id": "onCpjNgsVYsk"
      },
      "execution_count": 7,
      "outputs": []
    },
    {
      "cell_type": "code",
      "source": [
        "from langchain_groq import ChatGroq\n",
        "llm = ChatGroq(groq_api_key=groq_api_key, model=\"Gemma2-9b-It\")"
      ],
      "metadata": {
        "id": "l-MG4WKaWyT-"
      },
      "execution_count": 23,
      "outputs": []
    },
    {
      "cell_type": "code",
      "source": [
        "from typing import Annotated\n",
        "from typing_extensions import TypedDict\n",
        "from langgraph.graph import StateGraph, START, END\n",
        "from langgraph.graph.message import add_messages"
      ],
      "metadata": {
        "id": "XadQp79AXFFG"
      },
      "execution_count": 25,
      "outputs": []
    },
    {
      "cell_type": "code",
      "source": [
        "class State(TypedDict):\n",
        "  messages:Annotated[list,add_messages]\n",
        "\n",
        "graph_builder=StateGraph(State)\n",
        ""
      ],
      "metadata": {
        "id": "VVOYpVx8XjCW"
      },
      "execution_count": 26,
      "outputs": []
    },
    {
      "cell_type": "code",
      "source": [
        "graph_builder"
      ],
      "metadata": {
        "colab": {
          "base_uri": "https://localhost:8080/"
        },
        "id": "okJAQfoDX-K8",
        "outputId": "1fd13d6e-4337-4f08-de0d-ba317aea971d"
      },
      "execution_count": 27,
      "outputs": [
        {
          "output_type": "execute_result",
          "data": {
            "text/plain": [
              "<langgraph.graph.state.StateGraph at 0x7aa2ee741840>"
            ]
          },
          "metadata": {},
          "execution_count": 27
        }
      ]
    },
    {
      "cell_type": "code",
      "source": [
        "def chatbot(state:State):\n",
        "  return {\"messages\":llm.invoke(state[\"messages\"])}"
      ],
      "metadata": {
        "id": "714bedl8YBoG"
      },
      "execution_count": 28,
      "outputs": []
    },
    {
      "cell_type": "code",
      "source": [
        "graph_builder.add_node(\"chatbot\",chatbot)"
      ],
      "metadata": {
        "id": "WUd0vcBXcSOn"
      },
      "execution_count": 29,
      "outputs": []
    },
    {
      "cell_type": "code",
      "source": [
        "graph_builder.add_edge(START,\"chatbot\")\n",
        "graph_builder.add_edge(\"chatbot\",END)"
      ],
      "metadata": {
        "id": "TUZDS5LQca2k"
      },
      "execution_count": 30,
      "outputs": []
    },
    {
      "cell_type": "code",
      "source": [
        "graph = graph_builder.compile()"
      ],
      "metadata": {
        "id": "KUK8uxbJdJYf"
      },
      "execution_count": 31,
      "outputs": []
    },
    {
      "cell_type": "code",
      "source": [
        "from IPython.display import Image, display\n",
        "try:\n",
        "  display(Image(graph.get_graph().draw_mermaid_png()))\n",
        "except Exception:\n",
        "  pass"
      ],
      "metadata": {
        "colab": {
          "base_uri": "https://localhost:8080/",
          "height": 236
        },
        "id": "fSmGKrondaDq",
        "outputId": "2fd36b70-8fec-4f3e-966e-5975f288d486"
      },
      "execution_count": 32,
      "outputs": [
        {
          "output_type": "display_data",
          "data": {
            "image/jpeg": "[encoded data removed]",
            "text/plain": [
              "<IPython.core.display.Image object>"
            ]
          },
          "metadata": {}
        }
      ]
    },
    {
      "cell_type": "code",
      "source": [
        "while True:\n",
        "  user_input = input(\"User \")\n",
        "  if user_input.lower() in [\"quit\"]:\n",
        "    print(\"Good Bye\")\n",
        "    break\n",
        "  for event in graph.stream({'messages':(\"user\", user_input)}):\n",
        "    print(event.values())\n",
        "    for value in event.values():\n",
        "      print(value['messages'])\n",
        "      print(\"Assistant\", value[\"messages\"].content)\n"
      ],
      "metadata": {
        "colab": {
          "base_uri": "https://localhost:8080/"
        },
        "id": "sccKvlLieEOd",
        "outputId": "9ac25604-9285-4ae1-94d8-c0d053d374e6"
      },
      "execution_count": 34,
      "outputs": [
        {
          "output_type": "stream",
          "name": "stdout",
          "text": [
            "User Hi\n",
            "dict_values([{'messages': AIMessage(content='Hello! 👋  How can I help you today? 😊\\n', response_metadata={'token_usage': {'completion_tokens': 15, 'prompt_tokens': 10, 'total_tokens': 25, 'completion_time': 0.027272727, 'prompt_time': 3.2e-07, 'queue_time': 0.01446078, 'total_time': 0.027273047}, 'model_name': 'Gemma2-9b-It', 'system_fingerprint': 'fp_10c08bf97d', 'finish_reason': 'stop', 'logprobs': None}, id='run-a4e6bd4e-e10d-406b-800d-745e3e13ed70-0', usage_metadata={'input_tokens': 10, 'output_tokens': 15, 'total_tokens': 25})}])\n",
            "content='Hello! 👋  How can I help you today? 😊\\n' response_metadata={'token_usage': {'completion_tokens': 15, 'prompt_tokens': 10, 'total_tokens': 25, 'completion_time': 0.027272727, 'prompt_time': 3.2e-07, 'queue_time': 0.01446078, 'total_time': 0.027273047}, 'model_name': 'Gemma2-9b-It', 'system_fingerprint': 'fp_10c08bf97d', 'finish_reason': 'stop', 'logprobs': None} id='run-a4e6bd4e-e10d-406b-800d-745e3e13ed70-0' usage_metadata={'input_tokens': 10, 'output_tokens': 15, 'total_tokens': 25}\n",
            "Assistant Hello! 👋  How can I help you today? 😊\n",
            "\n",
            "User Tell me why mentor's is a good IELTS exam center \n",
            "dict_values([{'messages': AIMessage(content='I do not have access to real-time information, including reviews or rankings of specific IELTS exam centers like \"Mentor\\'s\". \\n\\nTo find out why Mentor\\'s might be considered a good IELTS exam center, I recommend checking these resources:\\n\\n* **Online Reviews:** Websites like Google Reviews, Trustpilot, or Yelp often have reviews from past students about their experiences at different exam centers.\\n* **Official IELTS Website:** The official IELTS website may list approved test centers in your area and provide some basic information about each one.\\n* **Student Forums:** Online forums dedicated to IELTS preparation can be a valuable source of information and insights from other students who have taken the exam at different centers.\\n* **Contact the Center Directly:** Reach out to Mentor\\'s IELTS center directly and inquire about their facilities, teaching staff, and student support services.\\n\\nRemember to consider factors like location, cost, reputation, and student support when choosing an IELTS exam center.\\n\\n', response_metadata={'token_usage': {'completion_tokens': 198, 'prompt_tokens': 22, 'total_tokens': 220, 'completion_time': 0.36, 'prompt_time': 0.002622616, 'queue_time': 0.030562564, 'total_time': 0.362622616}, 'model_name': 'Gemma2-9b-It', 'system_fingerprint': 'fp_10c08bf97d', 'finish_reason': 'stop', 'logprobs': None}, id='run-952b665f-510a-4725-b0b9-6f134e6bdfea-0', usage_metadata={'input_tokens': 22, 'output_tokens': 198, 'total_tokens': 220})}])\n",
            "content='I do not have access to real-time information, including reviews or rankings of specific IELTS exam centers like \"Mentor\\'s\". \\n\\nTo find out why Mentor\\'s might be considered a good IELTS exam center, I recommend checking these resources:\\n\\n* **Online Reviews:** Websites like Google Reviews, Trustpilot, or Yelp often have reviews from past students about their experiences at different exam centers.\\n* **Official IELTS Website:** The official IELTS website may list approved test centers in your area and provide some basic information about each one.\\n* **Student Forums:** Online forums dedicated to IELTS preparation can be a valuable source of information and insights from other students who have taken the exam at different centers.\\n* **Contact the Center Directly:** Reach out to Mentor\\'s IELTS center directly and inquire about their facilities, teaching staff, and student support services.\\n\\nRemember to consider factors like location, cost, reputation, and student support when choosing an IELTS exam center.\\n\\n' response_metadata={'token_usage': {'completion_tokens': 198, 'prompt_tokens': 22, 'total_tokens': 220, 'completion_time': 0.36, 'prompt_time': 0.002622616, 'queue_time': 0.030562564, 'total_time': 0.362622616}, 'model_name': 'Gemma2-9b-It', 'system_fingerprint': 'fp_10c08bf97d', 'finish_reason': 'stop', 'logprobs': None} id='run-952b665f-510a-4725-b0b9-6f134e6bdfea-0' usage_metadata={'input_tokens': 22, 'output_tokens': 198, 'total_tokens': 220}\n",
            "Assistant I do not have access to real-time information, including reviews or rankings of specific IELTS exam centers like \"Mentor's\". \n",
            "\n",
            "To find out why Mentor's might be considered a good IELTS exam center, I recommend checking these resources:\n",
            "\n",
            "* **Online Reviews:** Websites like Google Reviews, Trustpilot, or Yelp often have reviews from past students about their experiences at different exam centers.\n",
            "* **Official IELTS Website:** The official IELTS website may list approved test centers in your area and provide some basic information about each one.\n",
            "* **Student Forums:** Online forums dedicated to IELTS preparation can be a valuable source of information and insights from other students who have taken the exam at different centers.\n",
            "* **Contact the Center Directly:** Reach out to Mentor's IELTS center directly and inquire about their facilities, teaching staff, and student support services.\n",
            "\n",
            "Remember to consider factors like location, cost, reputation, and student support when choosing an IELTS exam center.\n",
            "\n",
            "\n",
            "User can you do me a favour?\n",
            "dict_values([{'messages': AIMessage(content=\"I'd love to! What can I do for you? 😊  \\n\\nPlease remember that I'm an AI, so I can't do everything. I can't access real-world information, control physical objects, or give medical or financial advice. But I'm great at things like:\\n\\n* **Answering your questions**\\n* **Generating creative content**\\n* **Summarizing text**\\n* **Translating languages**\\n* **And much more!** \\n\\nLet me know how I can help. 👍\\n\", response_metadata={'token_usage': {'completion_tokens': 114, 'prompt_tokens': 16, 'total_tokens': 130, 'completion_time': 0.207272727, 'prompt_time': 0.000254018, 'queue_time': 0.07523325700000001, 'total_time': 0.207526745}, 'model_name': 'Gemma2-9b-It', 'system_fingerprint': 'fp_10c08bf97d', 'finish_reason': 'stop', 'logprobs': None}, id='run-1988f75b-88b9-4201-a277-768b265f9de0-0', usage_metadata={'input_tokens': 16, 'output_tokens': 114, 'total_tokens': 130})}])\n",
            "content=\"I'd love to! What can I do for you? 😊  \\n\\nPlease remember that I'm an AI, so I can't do everything. I can't access real-world information, control physical objects, or give medical or financial advice. But I'm great at things like:\\n\\n* **Answering your questions**\\n* **Generating creative content**\\n* **Summarizing text**\\n* **Translating languages**\\n* **And much more!** \\n\\nLet me know how I can help. 👍\\n\" response_metadata={'token_usage': {'completion_tokens': 114, 'prompt_tokens': 16, 'total_tokens': 130, 'completion_time': 0.207272727, 'prompt_time': 0.000254018, 'queue_time': 0.07523325700000001, 'total_time': 0.207526745}, 'model_name': 'Gemma2-9b-It', 'system_fingerprint': 'fp_10c08bf97d', 'finish_reason': 'stop', 'logprobs': None} id='run-1988f75b-88b9-4201-a277-768b265f9de0-0' usage_metadata={'input_tokens': 16, 'output_tokens': 114, 'total_tokens': 130}\n",
            "Assistant I'd love to! What can I do for you? 😊  \n",
            "\n",
            "Please remember that I'm an AI, so I can't do everything. I can't access real-world information, control physical objects, or give medical or financial advice. But I'm great at things like:\n",
            "\n",
            "* **Answering your questions**\n",
            "* **Generating creative content**\n",
            "* **Summarizing text**\n",
            "* **Translating languages**\n",
            "* **And much more!** \n",
            "\n",
            "Let me know how I can help. 👍\n",
            "\n",
            "User Tell me a joke \n",
            "dict_values([{'messages': AIMessage(content=\"Why don't scientists trust atoms? \\n\\nBecause they make up everything!  \\n\", response_metadata={'token_usage': {'completion_tokens': 20, 'prompt_tokens': 14, 'total_tokens': 34, 'completion_time': 0.036363636, 'prompt_time': 0.000205049, 'queue_time': 1.245611958, 'total_time': 0.036568685}, 'model_name': 'Gemma2-9b-It', 'system_fingerprint': 'fp_10c08bf97d', 'finish_reason': 'stop', 'logprobs': None}, id='run-18905589-cec4-4e33-8885-524df7a195f8-0', usage_metadata={'input_tokens': 14, 'output_tokens': 20, 'total_tokens': 34})}])\n",
            "content=\"Why don't scientists trust atoms? \\n\\nBecause they make up everything!  \\n\" response_metadata={'token_usage': {'completion_tokens': 20, 'prompt_tokens': 14, 'total_tokens': 34, 'completion_time': 0.036363636, 'prompt_time': 0.000205049, 'queue_time': 1.245611958, 'total_time': 0.036568685}, 'model_name': 'Gemma2-9b-It', 'system_fingerprint': 'fp_10c08bf97d', 'finish_reason': 'stop', 'logprobs': None} id='run-18905589-cec4-4e33-8885-524df7a195f8-0' usage_metadata={'input_tokens': 14, 'output_tokens': 20, 'total_tokens': 34}\n",
            "Assistant Why don't scientists trust atoms? \n",
            "\n",
            "Because they make up everything!  \n",
            "\n",
            "User quit\n",
            "Good Bye\n"
          ]
        }
      ]
    }
  ]
}